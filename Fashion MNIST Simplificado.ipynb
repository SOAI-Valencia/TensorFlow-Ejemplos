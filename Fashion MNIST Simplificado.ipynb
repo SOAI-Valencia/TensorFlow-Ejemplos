{
 "cells": [
  {
   "cell_type": "code",
   "execution_count": 1,
   "metadata": {
    "collapsed": true
   },
   "outputs": [],
   "source": [
    "import tensorflow as tf\n",
    "import matplotlib.pyplot as plt\n",
    "import seaborn as sns\n",
    "import numpy as np\n",
    "\n",
    "from tensorflow.examples.tutorials.mnist import input_data\n",
    "\n",
    "%matplotlib inline\n",
    "\n",
    "sns.set_style(\"whitegrid\")"
   ]
  },
  {
   "cell_type": "code",
   "execution_count": 2,
   "metadata": {},
   "outputs": [
    {
     "name": "stdout",
     "output_type": "stream",
     "text": [
      "WARNING:tensorflow:From <ipython-input-2-63134bfe9eb3>:1: read_data_sets (from tensorflow.contrib.learn.python.learn.datasets.mnist) is deprecated and will be removed in a future version.\n",
      "Instructions for updating:\n",
      "Please use alternatives such as official/mnist/dataset.py from tensorflow/models.\n",
      "WARNING:tensorflow:From C:\\Users\\zEros\\Anaconda3\\lib\\site-packages\\tensorflow\\contrib\\learn\\python\\learn\\datasets\\mnist.py:260: maybe_download (from tensorflow.contrib.learn.python.learn.datasets.base) is deprecated and will be removed in a future version.\n",
      "Instructions for updating:\n",
      "Please write your own downloading logic.\n",
      "WARNING:tensorflow:From C:\\Users\\zEros\\Anaconda3\\lib\\site-packages\\tensorflow\\contrib\\learn\\python\\learn\\datasets\\mnist.py:262: extract_images (from tensorflow.contrib.learn.python.learn.datasets.mnist) is deprecated and will be removed in a future version.\n",
      "Instructions for updating:\n",
      "Please use tf.data to implement this functionality.\n",
      "Extracting data/fashion\\train-images-idx3-ubyte.gz\n",
      "WARNING:tensorflow:From C:\\Users\\zEros\\Anaconda3\\lib\\site-packages\\tensorflow\\contrib\\learn\\python\\learn\\datasets\\mnist.py:267: extract_labels (from tensorflow.contrib.learn.python.learn.datasets.mnist) is deprecated and will be removed in a future version.\n",
      "Instructions for updating:\n",
      "Please use tf.data to implement this functionality.\n",
      "Extracting data/fashion\\train-labels-idx1-ubyte.gz\n",
      "WARNING:tensorflow:From C:\\Users\\zEros\\Anaconda3\\lib\\site-packages\\tensorflow\\contrib\\learn\\python\\learn\\datasets\\mnist.py:110: dense_to_one_hot (from tensorflow.contrib.learn.python.learn.datasets.mnist) is deprecated and will be removed in a future version.\n",
      "Instructions for updating:\n",
      "Please use tf.one_hot on tensors.\n",
      "Extracting data/fashion\\t10k-images-idx3-ubyte.gz\n",
      "Extracting data/fashion\\t10k-labels-idx1-ubyte.gz\n",
      "WARNING:tensorflow:From C:\\Users\\zEros\\Anaconda3\\lib\\site-packages\\tensorflow\\contrib\\learn\\python\\learn\\datasets\\mnist.py:290: DataSet.__init__ (from tensorflow.contrib.learn.python.learn.datasets.mnist) is deprecated and will be removed in a future version.\n",
      "Instructions for updating:\n",
      "Please use alternatives such as official/mnist/dataset.py from tensorflow/models.\n"
     ]
    }
   ],
   "source": [
    "# Fashion Mnist: https://github.com/zalandoresearch/fashion-mnist\n",
    "\n",
    "# Importamos los datos\n",
    "fashion_mnist = input_data.read_data_sets(\"data/fashion\", source_url='http://fashion-mnist.s3-website.eu-central-1.amazonaws.com/', one_hot=True)"
   ]
  },
  {
   "cell_type": "code",
   "execution_count": 3,
   "metadata": {
    "collapsed": true
   },
   "outputs": [],
   "source": [
    "def crear_placeholders(nuestra_x, nuestra_y):\n",
    "    \n",
    "    # Argumentos:\n",
    "    #  nuestra_x -- escalar, tamaño de un vector de imagen (28 * 28 = 784)\n",
    "    #  nuestra_y -- escalar, número de clases (10)\n",
    "    \n",
    "    x = tf.placeholder(tf.float32, shape=[None, numero_x])\n",
    "    y = tf.placeholder(tf.float32, shape=[None, numero_y])\n",
    "    \n",
    "    return x, y"
   ]
  },
  {
   "cell_type": "code",
   "execution_count": 4,
   "metadata": {
    "collapsed": true
   },
   "outputs": [],
   "source": [
    "# Necesitamos inicializar los weights y biases de cada capa en nuestra red neuronal de 3 capas.\n",
    "# Estos parámetros serán actualizados posteriormente durante el entrenamiento.\n",
    "\n",
    "# Para inicializar nuestros weights usaremos Xavier inicializador.\n",
    "# Para los biases inicialización Zero.\n",
    "\n",
    "def inicializar_parametros():\n",
    "    \n",
    "    # Primera capa\n",
    "    w1 = tf.get_variable(\"w1\", [784, 128], initializer=tf.contrib.layers.xavier_initializer())\n",
    "    b1 = tf.get_variable(\"b1\", [1, 128], initializer=tf.zeros_initializer())\n",
    "    \n",
    "    # Segunda capa\n",
    "    w2 = tf.get_variable(\"w2\", [128, 128], initializer=tf.contrib.layers.xavier_initializer())\n",
    "    b2 = tf.get_variable(\"b2\", [1, 128], initializer=tf.zeros_initializer())\n",
    "    \n",
    "    # Capa de salida\n",
    "    w3 = tf.get_variable(\"w3\", [128, 10], initializer=tf.contrib.layers.xavier_initializer())\n",
    "    b3 = tf.get_variable(\"b3\", [1, 10], initializer=tf.zeros_initializer())\n",
    "    \n",
    "    # Almacenamos las inicializaciones como un diccionario de parámetros.\n",
    "    parametros = {\n",
    "        \"w1\": w1,\n",
    "        \"b1\": b1,\n",
    "        \"w2\": w2,\n",
    "        \"b2\": b2,\n",
    "        \"w3\": w3,\n",
    "        \"b3\": b3\n",
    "    }\n",
    "    \n",
    "    return parametros  "
   ]
  },
  {
   "cell_type": "code",
   "execution_count": 5,
   "metadata": {
    "collapsed": true
   },
   "outputs": [],
   "source": [
    "def forward_propagation(x, parametros):\n",
    "    \n",
    "    # Implementa la propagación hacia adelante del modelo:\n",
    "    # LINEAL -> RELU -> LINEAL -> RELU -> LINEAL -> SOFTMAX\n",
    "    \n",
    "    # x -- entrada de datos placeholder, con forma (número de ejemplos, tamaño de la imagen)\n",
    "    \n",
    "    # Cojemos los parametros de nuestro diccionario    \n",
    "    w1 = parametros['w1']\n",
    "    b1 = parametros['b1']\n",
    "    w2 = parametros['w2']\n",
    "    b2 = parametros['b2']\n",
    "    w3 = parametros['w3']\n",
    "    b3 = parametros['b3']\n",
    "    \n",
    "    # Hacemos nuestra propagacion hacia delante.\n",
    "    z1 = tf.add(tf.matmul(x, w1), b1)\n",
    "    a1 = tf.nn.relu(z1)                  \n",
    "    z2 = tf.add(tf.matmul(a1, w2), b2)    \n",
    "    a2 = tf.nn.relu(z2)                  \n",
    "    z3 = tf.add(tf.matmul(a2, w3), b3)\n",
    "    \n",
    "    return z3"
   ]
  },
  {
   "cell_type": "code",
   "execution_count": 6,
   "metadata": {
    "collapsed": true
   },
   "outputs": [],
   "source": [
    "def compute_loss(z, y_true):\n",
    "    \n",
    "    loss = tf.reduce_mean(tf.nn.softmax_cross_entropy_with_logits_v2(logits=z, labels=y_true))\n",
    "    \n",
    "    return loss"
   ]
  },
  {
   "cell_type": "code",
   "execution_count": 7,
   "metadata": {
    "collapsed": true
   },
   "outputs": [],
   "source": [
    "def optimize(loss, learning_rate=0.001):\n",
    "    \n",
    "    optimizer = tf.train.AdamOptimizer(learning_rate).minimize(loss)\n",
    "    \n",
    "    return optimizer"
   ]
  },
  {
   "cell_type": "markdown",
   "metadata": {},
   "source": [
    "# Inicializamos todo"
   ]
  },
  {
   "cell_type": "code",
   "execution_count": 8,
   "metadata": {
    "collapsed": true
   },
   "outputs": [],
   "source": [
    "# Se asegura de que el modelo se puede volver a ejecutar sin sobrescribir las variables\n",
    "tf.reset_default_graph()\n",
    "\n",
    "# Cojemos las formas de nuestros inputs y outputs\n",
    "(cantidad_de_x, nuestra_x) = fashion_mnist.train.images.shape\n",
    "nuestra_y = fashion_mnist.train.labels.shape[1]    \n",
    "\n",
    "# Creamos nuestros placeholders\n",
    "x, y = crear_placeholders(nuestra_x, nuestra_y)\n",
    "\n",
    "# Inicializamos los parametros\n",
    "parametros = inicializar_parametros()\n",
    "\n",
    "# Propagacion hacia delante\n",
    "z3 = forward_propagation(x, parametros)\n",
    "\n",
    "# Nuestra perdida\n",
    "loss = compute_loss(z3, y)\n",
    "\n",
    "# Backpropagation usando Adam optimizer\n",
    "train = optimize(loss)"
   ]
  },
  {
   "cell_type": "code",
   "execution_count": 9,
   "metadata": {
    "collapsed": true
   },
   "outputs": [],
   "source": [
    "# Inicializamos las variables\n",
    "init = tf.global_variables_initializer()"
   ]
  },
  {
   "cell_type": "markdown",
   "metadata": {},
   "source": [
    "## Creamos nuestra session"
   ]
  },
  {
   "cell_type": "code",
   "execution_count": 10,
   "metadata": {},
   "outputs": [
    {
     "name": "stdout",
     "output_type": "stream",
     "text": [
      "0.8498\n"
     ]
    }
   ],
   "source": [
    "# Iniciamos sesion para calcular el grafico de Tensorflow\n",
    "with tf.Session() as sess:\n",
    "    \n",
    "    # Corremos la inicializacion\n",
    "    sess.run(init)\n",
    "    \n",
    "    # Tamaño de nuestro batch\n",
    "    batchsize = 32\n",
    "    \n",
    "    cantidad_loops = int(cantidad_de_x / batchsize)\n",
    "    \n",
    "    # Entrenamos el modelo\n",
    "    for step in range(cantidad_loops):\n",
    "        \n",
    "        # Obtenemos el siguiente batch de datos de entrenamiento y etiquetas\n",
    "        batch_x, batch_y = fashion_mnist.train.next_batch(batchsize)\n",
    "        \n",
    "        # Entrenamos nuestro modelo\n",
    "        sess.run(train, feed_dict={x: batch_x, y: batch_y})\n",
    "     \n",
    "    # Calculamos las predicciones que fueron correctas\n",
    "    correct_prediction = tf.equal(tf.argmax(z3, 1), tf.argmax(y, 1))\n",
    "    \n",
    "    # Calculamos nuestra precision\n",
    "    accuracy = tf.reduce_mean(tf.cast(correct_prediction, tf.float32))\n",
    "    \n",
    "    # Testamos nuestro model con datos que no ha visto\n",
    "    print(sess.run(accuracy, feed_dict={x: fashion_mnist.test.images, y: fashion_mnist.test.labels}))"
   ]
  },
  {
   "cell_type": "code",
   "execution_count": null,
   "metadata": {
    "collapsed": true
   },
   "outputs": [],
   "source": []
  },
  {
   "cell_type": "code",
   "execution_count": null,
   "metadata": {
    "collapsed": true
   },
   "outputs": [],
   "source": []
  }
 ],
 "metadata": {
  "kernelspec": {
   "display_name": "Python 3",
   "language": "python",
   "name": "python3"
  },
  "language_info": {
   "codemirror_mode": {
    "name": "ipython",
    "version": 3
   },
   "file_extension": ".py",
   "mimetype": "text/x-python",
   "name": "python",
   "nbconvert_exporter": "python",
   "pygments_lexer": "ipython3",
   "version": "3.6.6"
  }
 },
 "nbformat": 4,
 "nbformat_minor": 2
}
