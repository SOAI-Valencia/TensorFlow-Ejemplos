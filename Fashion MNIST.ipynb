{
 "cells": [
  {
   "cell_type": "code",
   "execution_count": 19,
   "metadata": {
    "collapsed": true
   },
   "outputs": [],
   "source": [
    "import tensorflow as tf\n",
    "import matplotlib.pyplot as plt\n",
    "import seaborn as sns\n",
    "import numpy as np\n",
    "\n",
    "from tensorflow.examples.tutorials.mnist import input_data\n",
    "\n",
    "%matplotlib inline\n",
    "\n",
    "sns.set_style('whitegrid')"
   ]
  },
  {
   "cell_type": "code",
   "execution_count": 20,
   "metadata": {},
   "outputs": [
    {
     "name": "stdout",
     "output_type": "stream",
     "text": [
      "Extracting data/fashion\\train-images-idx3-ubyte.gz\n",
      "Extracting data/fashion\\train-labels-idx1-ubyte.gz\n",
      "Extracting data/fashion\\t10k-images-idx3-ubyte.gz\n",
      "Extracting data/fashion\\t10k-labels-idx1-ubyte.gz\n"
     ]
    }
   ],
   "source": [
    "# Fashion Mnist: https://github.com/zalandoresearch/fashion-mnist\n",
    "\n",
    "# Importamos los datos\n",
    "fashion_mnist = input_data.read_data_sets(\"data/fashion\", source_url='http://fashion-mnist.s3-website.eu-central-1.amazonaws.com/', one_hot=True)"
   ]
  },
  {
   "cell_type": "markdown",
   "metadata": {},
   "source": [
    "# Exploramos los datos"
   ]
  },
  {
   "cell_type": "code",
   "execution_count": 21,
   "metadata": {},
   "outputs": [
    {
     "name": "stdout",
     "output_type": "stream",
     "text": [
      "Training set images shape : (55000, 784)\n",
      "Training set labels shape : (55000, 10)\n",
      "Test set images shape : (10000, 784)\n",
      "Test set labels shape : (10000, 10)\n"
     ]
    }
   ],
   "source": [
    "# Vemos la forma que tiene nuestro set de imagenes\n",
    "\n",
    "print(f\"Training set images shape : {fashion_mnist.train.images.shape}\")\n",
    "print(f\"Training set labels shape : {fashion_mnist.train.labels.shape}\")\n",
    "\n",
    "print(f\"Test set images shape : {fashion_mnist.test.images.shape}\")\n",
    "print(f\"Test set labels shape : {fashion_mnist.test.labels.shape}\")"
   ]
  },
  {
   "cell_type": "code",
   "execution_count": 22,
   "metadata": {
    "collapsed": true
   },
   "outputs": [],
   "source": [
    "# Guardamos nuestras clases\n",
    "\n",
    "class_names = ['Camiseta/top', 'Pantalon', 'Pull-over', 'Vestido', 'Abrigo', \n",
    "               'Sandalia', 'Camisa', 'Zapatilla de deporte', 'Bolso', 'Bota hasta el tobillo']"
   ]
  },
  {
   "cell_type": "code",
   "execution_count": 46,
   "metadata": {},
   "outputs": [
    {
     "name": "stdout",
     "output_type": "stream",
     "text": [
      "Etiqueta: Zapatilla de deporte\n"
     ]
    },
    {
     "data": {
      "image/png": "[encoded data removed]",
      "text/plain": [
       "<Figure size 432x288 with 1 Axes>"
      ]
     },
     "metadata": {},
     "output_type": "display_data"
    }
   ],
   "source": [
    "# Cada imagen tiene forma de tensor 1D con 28x28=784 elementos (cade elemento corresponde a un pixel en la imagen)\n",
    "\n",
    "# Cojemos una imagen y cambiamos su forma a 28x28 para poder mostrarlo en la grafica\n",
    "muestra_1 = fashion_mnist.train.images[0].reshape(28,28)\n",
    "\n",
    "# Cojemos la etiqueta que corresponde\n",
    "etiqueta_1 = np.where(fashion_mnist.train.labels[0] == 1)[0][0]\n",
    "\n",
    "# Mostramos el ejemplo\n",
    "print(f\"Etiqueta: {class_names[etiqueta_1]}\")\n",
    "plt.imshow(muestra_1, cmap=\"gist_gray\")\n",
    "plt.grid(False)"
   ]
  },
  {
   "cell_type": "markdown",
   "metadata": {},
   "source": [
    "# Placeholders"
   ]
  },
  {
   "cell_type": "code",
   "execution_count": 24,
   "metadata": {
    "collapsed": true
   },
   "outputs": [],
   "source": [
    "def crear_placeholders(nuestra_x, nuestra_y):\n",
    "    \n",
    "    # Argumentos:\n",
    "    #  nuestra_x -- escalar, tamaño de un vector de imagen (28 * 28 = 784)\n",
    "    #  nuestra_y -- escalar, número de clases (10)\n",
    "    \n",
    "    x = tf.placeholder(tf.float32, shape=[None, nuestra_x])\n",
    "    y = tf.placeholder(tf.float32, shape=[None, nuestra_y])\n",
    "    \n",
    "    return x, y"
   ]
  },
  {
   "cell_type": "markdown",
   "metadata": {},
   "source": [
    "# Variables (Inicializamos los parametros)"
   ]
  },
  {
   "cell_type": "code",
   "execution_count": 25,
   "metadata": {
    "collapsed": true
   },
   "outputs": [],
   "source": [
    "# Necesitamos inicializar los weights y biases de cada capa en nuestra red neuronal de 3 capas.\n",
    "# Estos parámetros serán actualizados posteriormente durante el entrenamiento.\n",
    "\n",
    "# Para inicializar nuestros weights usaremos Xavier inicializador.\n",
    "# Para los biases inicialización Zero.\n",
    "\n",
    "def inicializar_parametros():\n",
    "    \n",
    "    # Primera capa\n",
    "    w1 = tf.get_variable(\"w1\", [784, 128], initializer=tf.contrib.layers.xavier_initializer())\n",
    "    b1 = tf.get_variable(\"b1\", [1, 128], initializer=tf.zeros_initializer())\n",
    "    \n",
    "    # Segunda capa\n",
    "    w2 = tf.get_variable(\"w2\", [128, 128], initializer=tf.contrib.layers.xavier_initializer())\n",
    "    b2 = tf.get_variable(\"b2\", [1, 128], initializer=tf.zeros_initializer())\n",
    "    \n",
    "    # Capa de salida\n",
    "    w3 = tf.get_variable(\"w3\", [128, 10], initializer=tf.contrib.layers.xavier_initializer())\n",
    "    b3 = tf.get_variable(\"b3\", [1, 10], initializer=tf.zeros_initializer())\n",
    "    \n",
    "    # Almacenamos las inicializaciones como un diccionario de parámetros.\n",
    "    parametros = {\n",
    "        \"w1\": w1,\n",
    "        \"b1\": b1,\n",
    "        \"w2\": w2,\n",
    "        \"b2\": b2,\n",
    "        \"w3\": w3,\n",
    "        \"b3\": b3\n",
    "    }\n",
    "    \n",
    "    return parametros"
   ]
  },
  {
   "cell_type": "markdown",
   "metadata": {},
   "source": [
    "# Operaciones (Forward propagation/Propagacion hacia adelante)"
   ]
  },
  {
   "cell_type": "code",
   "execution_count": 26,
   "metadata": {
    "collapsed": true
   },
   "outputs": [],
   "source": [
    "def forward_propagation(x, parametros):\n",
    "    \n",
    "    # Implementa la propagación hacia adelante del modelo:\n",
    "    # LINEAL -> RELU -> LINEAL -> RELU -> LINEAL -> SOFTMAX\n",
    "    \n",
    "    # x -- entrada de datos placeholder, con forma (número de ejemplos, tamaño de la imagen)\n",
    "    \n",
    "    # Cojemos los parametros de nuestro diccionario\n",
    "    w1 = parametros['w1']\n",
    "    b1 = parametros['b1']\n",
    "    w2 = parametros['w2']\n",
    "    b2 = parametros['b2']\n",
    "    w3 = parametros['w3']\n",
    "    b3 = parametros['b3']\n",
    "    \n",
    "    # Hacemos nuestra propagacion hacia delante.\n",
    "    z1 = tf.add(tf.matmul(x, w1), b1)\n",
    "    a1 = tf.nn.relu(z1)                  \n",
    "    z2 = tf.add(tf.matmul(a1, w2), b2)    \n",
    "    a2 = tf.nn.relu(z2)                  \n",
    "    z3 = tf.add(tf.matmul(a2, w3), b3)\n",
    "    \n",
    "    return z3"
   ]
  },
  {
   "cell_type": "code",
   "execution_count": 27,
   "metadata": {
    "collapsed": true
   },
   "outputs": [],
   "source": [
    "def save_model(session, file_name): \n",
    "    saver = tf.train.Saver()\n",
    "    saver.save(session, f\"/tmp/{file_name}\")\n",
    "    print(\"Modelo guardado\")"
   ]
  },
  {
   "cell_type": "markdown",
   "metadata": {},
   "source": [
    "# Loss function"
   ]
  },
  {
   "cell_type": "code",
   "execution_count": 28,
   "metadata": {
    "collapsed": true
   },
   "outputs": [],
   "source": [
    "def compute_loss(z, y_true):\n",
    "    \n",
    "    loss = tf.reduce_mean(tf.nn.softmax_cross_entropy_with_logits_v2(logits=z, labels=y_true))\n",
    "    \n",
    "    return loss"
   ]
  },
  {
   "cell_type": "markdown",
   "metadata": {},
   "source": [
    "# Optimizer (Backpropagation)"
   ]
  },
  {
   "cell_type": "code",
   "execution_count": 29,
   "metadata": {
    "collapsed": true
   },
   "outputs": [],
   "source": [
    "def optimize(loss, learning_rate=0.001):\n",
    "    \n",
    "    optimizer = tf.train.AdamOptimizer(learning_rate).minimize(loss)\n",
    "    \n",
    "    return optimizer"
   ]
  },
  {
   "cell_type": "markdown",
   "metadata": {},
   "source": [
    "# Modelo (train_eval)"
   ]
  },
  {
   "cell_type": "code",
   "execution_count": 30,
   "metadata": {
    "collapsed": true
   },
   "outputs": [],
   "source": [
    "def modelo(train, test, learning_rate=0.001, num_epochs=16, minibatch_size=32, print_loss=True, graph_filename=\"loss\", save_session=True):\n",
    "    \n",
    "    # Se asegura de que el modelo se puede volver a ejecutar sin sobrescribir las variables\n",
    "    tf.reset_default_graph()\n",
    "    \n",
    "    # Cojemos las formas de nuestros inputs y outputs\n",
    "    (cantidad_de_x, nuestra_x) = train.images.shape\n",
    "    nuestra_y = train.labels.shape[1]    \n",
    "    \n",
    "    # Creamos nuestros placeholders\n",
    "    x, y = crear_placeholders(nuestra_x, nuestra_y)\n",
    "    \n",
    "    losses = []\n",
    "    \n",
    "    # Inicializamos los parametros\n",
    "    parametros = inicializar_parametros()\n",
    "    \n",
    "    # Propagacion hacia delante\n",
    "    z3 = forward_propagation(x, parametros)\n",
    "    \n",
    "    # Nuestra perdida\n",
    "    loss = compute_loss(z3, y)\n",
    "    \n",
    "    # Backpropagation usando Adam optimizer\n",
    "    optimizer = optimize(loss)\n",
    "    \n",
    "    # Inicializamos las variables\n",
    "    init = tf.global_variables_initializer()\n",
    "    \n",
    "    \n",
    "    # Iniciamos sesion para calcular el grafico de Tensorflow\n",
    "    with tf.Session() as sess:\n",
    "        \n",
    "        # Corremos la inicializacion\n",
    "        sess.run(init)\n",
    "        \n",
    "        # Bucle para entrenamiento\n",
    "        for epoch in range(num_epochs):\n",
    "             \n",
    "                epoch_loss = 0.\n",
    "                cantidad_loops = int(cantidad_de_x / minibatch_size)\n",
    "                \n",
    "                for i in range(cantidad_loops):\n",
    "                    \n",
    "                    # Obtenemos el siguiente batch de datos de entrenamiento y etiquetas\n",
    "                    minibatch_x, minibatch_y = train.next_batch(minibatch_size)\n",
    "                    \n",
    "                    # Ejecutamos optimizer y loss function\n",
    "                    _, minibatch_loss = sess.run([optimizer, loss], feed_dict={x:minibatch_x, y:minibatch_y})\n",
    "                    \n",
    "                    # Actualizamos la perdida del epoch\n",
    "                    epoch_loss += minibatch_loss / cantidad_loops\n",
    "                \n",
    "                if print_loss == True:\n",
    "                    print(f\"Perdida en epoch {epoch}: {epoch_loss}\")\n",
    "                    losses.append(epoch_loss)\n",
    "        \n",
    "        # Mostramos la grafica de perdida\n",
    "        plt.figure(figsize=(16,5))\n",
    "        plt.plot(np.squeeze(losses), color='#2A688B')\n",
    "        plt.xlim(0, num_epochs-1)\n",
    "        plt.ylabel(\"Perdida\")\n",
    "        plt.xlabel(\"Iteraciones\")\n",
    "        plt.title(f\"Learning rate: {learning_rate}\")\n",
    "        plt.savefig(graph_filename, dpi=300)\n",
    "        \n",
    "        # Guardamos nuestros parametros entrenados\n",
    "        parametros = sess.run(parametros)\n",
    "        print(\"Parametros entrenados!\")\n",
    "        \n",
    "        # Calculamos las predicciones que fueron correctas\n",
    "        correct_prediction = tf.equal(tf.argmax(z3, 1), tf.argmax(y, 1))\n",
    "        \n",
    "        # Calculamos nuestra precision\n",
    "        accuracy = tf.reduce_mean(tf.cast(correct_prediction, tf.float32))\n",
    "        \n",
    "        # Evaluamos nuestro model.\n",
    "        print(\"Train Accuracy: \", accuracy.eval({x: train.images, y: train.labels}))\n",
    "        print(\"Test Accuracy: \", accuracy.eval({x: test.images, y: test.labels}))\n",
    "        \n",
    "        # Guardamos nuestra session.\n",
    "        if save_session == True:\n",
    "            save_model(sess, \"fashion_mnist\")\n",
    "        \n",
    "        return parametros"
   ]
  },
  {
   "cell_type": "markdown",
   "metadata": {},
   "source": [
    "# Test del modelo"
   ]
  },
  {
   "cell_type": "code",
   "execution_count": 31,
   "metadata": {
    "collapsed": true
   },
   "outputs": [],
   "source": [
    "train = fashion_mnist.train\n",
    "test = fashion_mnist.test"
   ]
  },
  {
   "cell_type": "code",
   "execution_count": 32,
   "metadata": {},
   "outputs": [
    {
     "name": "stdout",
     "output_type": "stream",
     "text": [
      "Perdida en epoch 0: 0.5017607870562677\n",
      "Perdida en epoch 1: 0.3709262532254673\n",
      "Perdida en epoch 2: 0.33517703862169035\n",
      "Perdida en epoch 3: 0.3094527139041109\n",
      "Perdida en epoch 4: 0.28868477690500866\n",
      "Perdida en epoch 5: 0.2775624888180404\n",
      "Perdida en epoch 6: 0.2626578527425732\n",
      "Perdida en epoch 7: 0.2524849871418526\n",
      "Perdida en epoch 8: 0.24010651209310313\n",
      "Perdida en epoch 9: 0.23143474337437805\n",
      "Perdida en epoch 10: 0.22236759326723254\n",
      "Perdida en epoch 11: 0.21481862747597247\n",
      "Perdida en epoch 12: 0.2071001122405315\n",
      "Perdida en epoch 13: 0.20023142606479685\n",
      "Perdida en epoch 14: 0.19139688118763215\n",
      "Perdida en epoch 15: 0.18703257559871295\n",
      "Parametros entrenados!\n",
      "Train Accuracy:  0.93465453\n",
      "Test Accuracy:  0.8893\n",
      "Modelo guardado\n"
     ]
    },
    {
     "data": {
      "image/png": "[encoded data removed]",
      "text/plain": [
       "<Figure size 1152x360 with 1 Axes>"
      ]
     },
     "metadata": {},
     "output_type": "display_data"
    }
   ],
   "source": [
    "parameters = modelo(train, test, learning_rate=0.001)"
   ]
  },
  {
   "cell_type": "markdown",
   "metadata": {},
   "source": [
    " ## Predicciones"
   ]
  },
  {
   "cell_type": "code",
   "execution_count": 39,
   "metadata": {
    "collapsed": true
   },
   "outputs": [],
   "source": [
    "def predecir(imagenes):\n",
    "    \n",
    "    tf.reset_default_graph()\n",
    "    \n",
    "    x = tf.placeholder(tf.float32, shape=[None, 784])\n",
    "    \n",
    "    z3 = forward_propagation(x, parameters)\n",
    "    \n",
    "    init = tf.global_variables_initializer()\n",
    "    \n",
    "    with tf.Session() as sess:\n",
    "        \n",
    "        sess.run(init)\n",
    "        \n",
    "        predictions = sess.run([z3], feed_dict={x: imagenes})   \n",
    "        \n",
    "    return predictions\n",
    "    "
   ]
  },
  {
   "cell_type": "code",
   "execution_count": 40,
   "metadata": {},
   "outputs": [
    {
     "data": {
      "text/plain": [
       "(1, 784)"
      ]
     },
     "execution_count": 40,
     "metadata": {},
     "output_type": "execute_result"
    }
   ],
   "source": [
    "data_never_seen = fashion_mnist.test.images[6].reshape([1,784])\n",
    "data_never_seen.shape"
   ]
  },
  {
   "cell_type": "code",
   "execution_count": 41,
   "metadata": {},
   "outputs": [
    {
     "name": "stdout",
     "output_type": "stream",
     "text": [
      "Label: Abrigo\n"
     ]
    },
    {
     "data": {
      "image/png": "[encoded data removed]",
      "text/plain": [
       "<Figure size 432x288 with 1 Axes>"
      ]
     },
     "metadata": {},
     "output_type": "display_data"
    }
   ],
   "source": [
    "print(f\"Label: {class_names[np.where(fashion_mnist.test.labels[6] == 1)[0][0]]}\")\n",
    "plt.imshow(fashion_mnist.test.images[6].reshape(28,28), cmap=\"gist_gray\")\n",
    "plt.grid(False)"
   ]
  },
  {
   "cell_type": "code",
   "execution_count": 42,
   "metadata": {
    "collapsed": true
   },
   "outputs": [],
   "source": [
    "predictions = predecir(data_never_seen)"
   ]
  },
  {
   "cell_type": "code",
   "execution_count": 43,
   "metadata": {},
   "outputs": [
    {
     "data": {
      "text/plain": [
       "[array([[-11.227413  , -14.854528  ,   4.465672  , -24.239819  ,\n",
       "          14.316182  , -37.188786  ,   0.09367141, -31.071415  ,\n",
       "         -22.759933  , -44.44107   ]], dtype=float32)]"
      ]
     },
     "execution_count": 43,
     "metadata": {},
     "output_type": "execute_result"
    }
   ],
   "source": [
    "predictions"
   ]
  },
  {
   "cell_type": "code",
   "execution_count": 44,
   "metadata": {},
   "outputs": [
    {
     "name": "stdout",
     "output_type": "stream",
     "text": [
      "Prediccion: Abrigo\n"
     ]
    }
   ],
   "source": [
    "print(f\"Prediccion: {class_names[np.argmax(predictions)]}\")"
   ]
  },
  {
   "cell_type": "code",
   "execution_count": null,
   "metadata": {
    "collapsed": true
   },
   "outputs": [],
   "source": []
  }
 ],
 "metadata": {
  "kernelspec": {
   "display_name": "Python 3",
   "language": "python",
   "name": "python3"
  },
  "language_info": {
   "codemirror_mode": {
    "name": "ipython",
    "version": 3
   },
   "file_extension": ".py",
   "mimetype": "text/x-python",
   "name": "python",
   "nbconvert_exporter": "python",
   "pygments_lexer": "ipython3",
   "version": "3.6.6"
  }
 },
 "nbformat": 4,
 "nbformat_minor": 2
}
